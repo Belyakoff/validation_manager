{
 "cells": [
  {
   "cell_type": "code",
   "execution_count": 1,
   "id": "a30f6cb7-70c5-471d-8284-be09c8f9c0b6",
   "metadata": {},
   "outputs": [],
   "source": [
    "import pandas as pd\n",
    "import re"
   ]
  },
  {
   "cell_type": "code",
   "execution_count": 2,
   "id": "074ada0f-5add-4fb2-8e9b-27df78358d66",
   "metadata": {},
   "outputs": [],
   "source": [
    "df = pd.read_csv('test_data.csv', sep=',')"
   ]
  },
  {
   "cell_type": "code",
   "execution_count": 3,
   "id": "6634b937-5ed9-4511-8f62-03796621e711",
   "metadata": {},
   "outputs": [
    {
     "data": {
      "text/plain": [
       "Index(['dlg_id', 'line_n', 'role', 'text'], dtype='object')"
      ]
     },
     "execution_count": 3,
     "metadata": {},
     "output_type": "execute_result"
    }
   ],
   "source": [
    "df.columns"
   ]
  },
  {
   "cell_type": "code",
   "execution_count": 4,
   "id": "9247fded-ae92-4122-82b7-7dce08b846d7",
   "metadata": {},
   "outputs": [],
   "source": [
    "searchfor_greet = ['здравствуйте', 'добрый день']\n",
    "filt_greet = pd.Series(df['text'].str.lower().str.contains('|'.join(searchfor_greet)))"
   ]
  },
  {
   "cell_type": "code",
   "execution_count": 5,
   "id": "ed587a9c-0721-4b53-bb4f-36b3c412ca08",
   "metadata": {},
   "outputs": [],
   "source": [
    "searchfor_bye = ['до свидания']\n",
    "filt_bye = pd.Series(df['text'].str.lower().str.contains('|'.join(searchfor_bye)))"
   ]
  },
  {
   "cell_type": "code",
   "execution_count": 6,
   "id": "e192f8ad-0dd9-4ec2-84b8-58ca8b652ae2",
   "metadata": {},
   "outputs": [],
   "source": [
    "df['greets'] = df.loc[filt_greet, ['text']]\n",
    "df['goodbyes'] = df.loc[filt_bye, ['text']]"
   ]
  },
  {
   "cell_type": "code",
   "execution_count": 7,
   "id": "87706026-68fa-4831-b37f-0fa883a2e575",
   "metadata": {},
   "outputs": [],
   "source": [
    "filt_notna_greet = (df['greets'].notna())\n",
    "filt_notna_bye = (df['goodbyes'].notna())\n",
    "\n",
    "filt_manager = (df['role'] == 'manager')\n",
    "\n",
    "filt_greets_notna = filt_notna_greet | filt_notna_bye"
   ]
  },
  {
   "cell_type": "code",
   "execution_count": 8,
   "id": "548976c5-bdce-42f6-8cca-6f2f12608430",
   "metadata": {},
   "outputs": [],
   "source": [
    "df_greets = df.loc[(filt_greets_notna & filt_manager), ['dlg_id','role', 'greets', 'goodbyes']] "
   ]
  },
  {
   "cell_type": "code",
   "execution_count": 9,
   "id": "0ca9dad9-df91-4b40-b833-ffcb1eee5b37",
   "metadata": {},
   "outputs": [
    {
     "data": {
      "text/html": [
       "<div>\n",
       "<style scoped>\n",
       "    .dataframe tbody tr th:only-of-type {\n",
       "        vertical-align: middle;\n",
       "    }\n",
       "\n",
       "    .dataframe tbody tr th {\n",
       "        vertical-align: top;\n",
       "    }\n",
       "\n",
       "    .dataframe thead th {\n",
       "        text-align: right;\n",
       "    }\n",
       "</style>\n",
       "<table border=\"1\" class=\"dataframe\">\n",
       "  <thead>\n",
       "    <tr style=\"text-align: right;\">\n",
       "      <th></th>\n",
       "      <th>dlg_id</th>\n",
       "      <th>role</th>\n",
       "      <th>greets</th>\n",
       "      <th>goodbyes</th>\n",
       "    </tr>\n",
       "  </thead>\n",
       "  <tbody>\n",
       "    <tr>\n",
       "      <th>1</th>\n",
       "      <td>0</td>\n",
       "      <td>manager</td>\n",
       "      <td>Алло здравствуйте</td>\n",
       "      <td>NaN</td>\n",
       "    </tr>\n",
       "    <tr>\n",
       "      <th>108</th>\n",
       "      <td>0</td>\n",
       "      <td>manager</td>\n",
       "      <td>NaN</td>\n",
       "      <td>Всего хорошего до свидания</td>\n",
       "    </tr>\n",
       "    <tr>\n",
       "      <th>110</th>\n",
       "      <td>1</td>\n",
       "      <td>manager</td>\n",
       "      <td>Алло здравствуйте</td>\n",
       "      <td>NaN</td>\n",
       "    </tr>\n",
       "    <tr>\n",
       "      <th>163</th>\n",
       "      <td>1</td>\n",
       "      <td>manager</td>\n",
       "      <td>NaN</td>\n",
       "      <td>До свидания</td>\n",
       "    </tr>\n",
       "    <tr>\n",
       "      <th>166</th>\n",
       "      <td>2</td>\n",
       "      <td>manager</td>\n",
       "      <td>Алло здравствуйте</td>\n",
       "      <td>NaN</td>\n",
       "    </tr>\n",
       "    <tr>\n",
       "      <th>250</th>\n",
       "      <td>3</td>\n",
       "      <td>manager</td>\n",
       "      <td>Алло дмитрий добрый день</td>\n",
       "      <td>NaN</td>\n",
       "    </tr>\n",
       "    <tr>\n",
       "      <th>335</th>\n",
       "      <td>4</td>\n",
       "      <td>manager</td>\n",
       "      <td>NaN</td>\n",
       "      <td>Во вторник все ну с вами да тогда до вторника ...</td>\n",
       "    </tr>\n",
       "    <tr>\n",
       "      <th>479</th>\n",
       "      <td>5</td>\n",
       "      <td>manager</td>\n",
       "      <td>NaN</td>\n",
       "      <td>Ну до свидания хорошего вечера</td>\n",
       "    </tr>\n",
       "  </tbody>\n",
       "</table>\n",
       "</div>"
      ],
      "text/plain": [
       "     dlg_id     role                    greets  \\\n",
       "1         0  manager         Алло здравствуйте   \n",
       "108       0  manager                       NaN   \n",
       "110       1  manager         Алло здравствуйте   \n",
       "163       1  manager                       NaN   \n",
       "166       2  manager         Алло здравствуйте   \n",
       "250       3  manager  Алло дмитрий добрый день   \n",
       "335       4  manager                       NaN   \n",
       "479       5  manager                       NaN   \n",
       "\n",
       "                                              goodbyes  \n",
       "1                                                  NaN  \n",
       "108                         Всего хорошего до свидания  \n",
       "110                                                NaN  \n",
       "163                                        До свидания  \n",
       "166                                                NaN  \n",
       "250                                                NaN  \n",
       "335  Во вторник все ну с вами да тогда до вторника ...  \n",
       "479                     Ну до свидания хорошего вечера  "
      ]
     },
     "execution_count": 9,
     "metadata": {},
     "output_type": "execute_result"
    }
   ],
   "source": [
    "df_greets"
   ]
  },
  {
   "cell_type": "code",
   "execution_count": 10,
   "id": "24c77990-ce02-4d5d-ac5e-e01c831ded8e",
   "metadata": {},
   "outputs": [],
   "source": [
    "df_greets_grouped = df_greets.groupby(['dlg_id']).count()"
   ]
  },
  {
   "cell_type": "code",
   "execution_count": 11,
   "id": "608a890f-4ba5-4d94-8bf3-a324cd1a3a69",
   "metadata": {},
   "outputs": [
    {
     "data": {
      "text/html": [
       "<div>\n",
       "<style scoped>\n",
       "    .dataframe tbody tr th:only-of-type {\n",
       "        vertical-align: middle;\n",
       "    }\n",
       "\n",
       "    .dataframe tbody tr th {\n",
       "        vertical-align: top;\n",
       "    }\n",
       "\n",
       "    .dataframe thead th {\n",
       "        text-align: right;\n",
       "    }\n",
       "</style>\n",
       "<table border=\"1\" class=\"dataframe\">\n",
       "  <thead>\n",
       "    <tr style=\"text-align: right;\">\n",
       "      <th></th>\n",
       "      <th>role</th>\n",
       "      <th>greets</th>\n",
       "      <th>goodbyes</th>\n",
       "    </tr>\n",
       "    <tr>\n",
       "      <th>dlg_id</th>\n",
       "      <th></th>\n",
       "      <th></th>\n",
       "      <th></th>\n",
       "    </tr>\n",
       "  </thead>\n",
       "  <tbody>\n",
       "    <tr>\n",
       "      <th>0</th>\n",
       "      <td>2</td>\n",
       "      <td>1</td>\n",
       "      <td>1</td>\n",
       "    </tr>\n",
       "    <tr>\n",
       "      <th>1</th>\n",
       "      <td>2</td>\n",
       "      <td>1</td>\n",
       "      <td>1</td>\n",
       "    </tr>\n",
       "    <tr>\n",
       "      <th>2</th>\n",
       "      <td>1</td>\n",
       "      <td>1</td>\n",
       "      <td>0</td>\n",
       "    </tr>\n",
       "    <tr>\n",
       "      <th>3</th>\n",
       "      <td>1</td>\n",
       "      <td>1</td>\n",
       "      <td>0</td>\n",
       "    </tr>\n",
       "    <tr>\n",
       "      <th>4</th>\n",
       "      <td>1</td>\n",
       "      <td>0</td>\n",
       "      <td>1</td>\n",
       "    </tr>\n",
       "    <tr>\n",
       "      <th>5</th>\n",
       "      <td>1</td>\n",
       "      <td>0</td>\n",
       "      <td>1</td>\n",
       "    </tr>\n",
       "  </tbody>\n",
       "</table>\n",
       "</div>"
      ],
      "text/plain": [
       "        role  greets  goodbyes\n",
       "dlg_id                        \n",
       "0          2       1         1\n",
       "1          2       1         1\n",
       "2          1       1         0\n",
       "3          1       1         0\n",
       "4          1       0         1\n",
       "5          1       0         1"
      ]
     },
     "execution_count": 11,
     "metadata": {},
     "output_type": "execute_result"
    }
   ],
   "source": [
    "df_greets_grouped"
   ]
  },
  {
   "cell_type": "code",
   "execution_count": 12,
   "id": "cbe06a52-a9a7-435f-bde2-696b4778a630",
   "metadata": {},
   "outputs": [],
   "source": [
    "validated = df_greets_grouped.groupby(['dlg_id']).role.agg([lambda x: True if int(x) == 2 else False])"
   ]
  },
  {
   "cell_type": "code",
   "execution_count": 13,
   "id": "3d3b7903-9d10-411a-ae40-d2e30bf2a10b",
   "metadata": {},
   "outputs": [
    {
     "data": {
      "text/plain": [
       "'Выполненное требование к менеджеру'"
      ]
     },
     "execution_count": 13,
     "metadata": {},
     "output_type": "execute_result"
    }
   ],
   "source": [
    "'Выполненное требование к менеджеру'"
   ]
  },
  {
   "cell_type": "code",
   "execution_count": 14,
   "id": "7288a156-64c9-4c58-bc0b-c0e587476d96",
   "metadata": {},
   "outputs": [],
   "source": [
    "validated.columns = ['done instruction']"
   ]
  },
  {
   "cell_type": "code",
   "execution_count": 15,
   "id": "42761620-ef9d-43fe-b481-a83b99107bea",
   "metadata": {},
   "outputs": [
    {
     "data": {
      "text/html": [
       "<div>\n",
       "<style scoped>\n",
       "    .dataframe tbody tr th:only-of-type {\n",
       "        vertical-align: middle;\n",
       "    }\n",
       "\n",
       "    .dataframe tbody tr th {\n",
       "        vertical-align: top;\n",
       "    }\n",
       "\n",
       "    .dataframe thead th {\n",
       "        text-align: right;\n",
       "    }\n",
       "</style>\n",
       "<table border=\"1\" class=\"dataframe\">\n",
       "  <thead>\n",
       "    <tr style=\"text-align: right;\">\n",
       "      <th></th>\n",
       "      <th>done instruction</th>\n",
       "    </tr>\n",
       "    <tr>\n",
       "      <th>dlg_id</th>\n",
       "      <th></th>\n",
       "    </tr>\n",
       "  </thead>\n",
       "  <tbody>\n",
       "    <tr>\n",
       "      <th>0</th>\n",
       "      <td>True</td>\n",
       "    </tr>\n",
       "    <tr>\n",
       "      <th>1</th>\n",
       "      <td>True</td>\n",
       "    </tr>\n",
       "    <tr>\n",
       "      <th>2</th>\n",
       "      <td>False</td>\n",
       "    </tr>\n",
       "    <tr>\n",
       "      <th>3</th>\n",
       "      <td>False</td>\n",
       "    </tr>\n",
       "    <tr>\n",
       "      <th>4</th>\n",
       "      <td>False</td>\n",
       "    </tr>\n",
       "    <tr>\n",
       "      <th>5</th>\n",
       "      <td>False</td>\n",
       "    </tr>\n",
       "  </tbody>\n",
       "</table>\n",
       "</div>"
      ],
      "text/plain": [
       "        done instruction\n",
       "dlg_id                  \n",
       "0                   True\n",
       "1                   True\n",
       "2                  False\n",
       "3                  False\n",
       "4                  False\n",
       "5                  False"
      ]
     },
     "execution_count": 15,
     "metadata": {},
     "output_type": "execute_result"
    }
   ],
   "source": [
    "validated"
   ]
  },
  {
   "cell_type": "code",
   "execution_count": 16,
   "id": "d876da6c-587f-43f8-99f9-bb9e2ce6c077",
   "metadata": {},
   "outputs": [
    {
     "data": {
      "text/plain": [
       "'Извлечение имени менеджера и компании'"
      ]
     },
     "execution_count": 16,
     "metadata": {},
     "output_type": "execute_result"
    }
   ],
   "source": [
    "'Извлечение имени менеджера и компании'"
   ]
  },
  {
   "cell_type": "code",
   "execution_count": 17,
   "id": "e7a980f1-9552-4a98-81f0-39a3eff041bb",
   "metadata": {},
   "outputs": [],
   "source": [
    "def get_name(x):\n",
    "    s = str(x)\n",
    "    \n",
    "    name = re.search(r'(?<=Меня зовут)(\\s\\w+)', s)\n",
    "    if name:\n",
    "        return name.group(0)\n",
    "    else: \n",
    "        name = re.search(r'меня(.*?)зовут', s)\n",
    "        return name.group(1)"
   ]
  },
  {
   "cell_type": "code",
   "execution_count": 18,
   "id": "42ac942d-ed15-4333-af60-c33b11efade8",
   "metadata": {},
   "outputs": [],
   "source": [
    "def get_company(x):\n",
    "    s = str(x)\n",
    "    \n",
    "    company = re.search(r'компани(.*?)(\\s\\w+)', s)\n",
    "    if company:\n",
    "        return company.group(2)"
   ]
  },
  {
   "cell_type": "code",
   "execution_count": 19,
   "id": "4ac93f55-1c3d-439a-89bb-9e10fbdfbadf",
   "metadata": {},
   "outputs": [],
   "source": [
    "searchfor_intro = ['зовут']\n",
    "filt_intros = pd.Series(df['text'].str.lower().str.contains('|'.join(searchfor_intro)))"
   ]
  },
  {
   "cell_type": "code",
   "execution_count": null,
   "id": "754f039f-17a7-4d3f-bead-d21f694a2290",
   "metadata": {},
   "outputs": [],
   "source": []
  },
  {
   "cell_type": "code",
   "execution_count": 20,
   "id": "1cfcea26-f29e-4588-a25a-e65c8fb2d496",
   "metadata": {},
   "outputs": [],
   "source": [
    "df['manager_intro_name'] = df.loc[filt_intros, ['text']].apply(get_name, axis=1)"
   ]
  },
  {
   "cell_type": "code",
   "execution_count": 21,
   "id": "3d682c52-9687-41cd-984a-6af755af1716",
   "metadata": {},
   "outputs": [],
   "source": [
    "df['manager_intro'] = df.loc[filt_intros, ['text']].apply(lambda x: True, axis=1)"
   ]
  },
  {
   "cell_type": "code",
   "execution_count": 22,
   "id": "b249fd74-adc0-4edd-a025-7a78084a00e8",
   "metadata": {},
   "outputs": [],
   "source": [
    "df['company'] = df.loc[filt_intros, ['text']].apply(get_company, axis=1)"
   ]
  },
  {
   "cell_type": "code",
   "execution_count": null,
   "id": "a60e2e78-aa99-476e-be2e-24a09644d9cb",
   "metadata": {},
   "outputs": [],
   "source": []
  },
  {
   "cell_type": "code",
   "execution_count": 23,
   "id": "4e418901-3243-4b87-8833-5179b10fa95b",
   "metadata": {},
   "outputs": [],
   "source": [
    "filt_notna_name = (df['manager_intro_name'].notna())\n",
    "filt_general = (filt_greets_notna | filt_notna_name) & filt_manager\n",
    "\n",
    "df = df[filt_general]"
   ]
  },
  {
   "cell_type": "code",
   "execution_count": null,
   "id": "faad29ea-973d-4bcb-a1f0-5df2e8284860",
   "metadata": {},
   "outputs": [],
   "source": []
  },
  {
   "cell_type": "code",
   "execution_count": 24,
   "id": "a0a5de78-d892-45d8-8e88-c5991eeb304e",
   "metadata": {},
   "outputs": [],
   "source": [
    "df = df.merge(validated, on='dlg_id', how='left')"
   ]
  },
  {
   "cell_type": "code",
   "execution_count": 25,
   "id": "21e2f84e-688f-4d01-ab51-963fb302b82b",
   "metadata": {},
   "outputs": [],
   "source": [
    "df.to_excel('result.xlsx')"
   ]
  },
  {
   "cell_type": "code",
   "execution_count": null,
   "id": "7f1fc0ee-c1d5-4535-ac77-c5f84ccc7859",
   "metadata": {},
   "outputs": [],
   "source": []
  },
  {
   "cell_type": "code",
   "execution_count": null,
   "id": "7359ed28-5702-4aad-91b0-e3d6ed064f78",
   "metadata": {},
   "outputs": [],
   "source": []
  },
  {
   "cell_type": "code",
   "execution_count": null,
   "id": "ea74ee75-226b-42b1-a7f1-958bf18ccb52",
   "metadata": {},
   "outputs": [],
   "source": []
  }
 ],
 "metadata": {
  "kernelspec": {
   "display_name": "Python 3 (ipykernel)",
   "language": "python",
   "name": "python3"
  },
  "language_info": {
   "codemirror_mode": {
    "name": "ipython",
    "version": 3
   },
   "file_extension": ".py",
   "mimetype": "text/x-python",
   "name": "python",
   "nbconvert_exporter": "python",
   "pygments_lexer": "ipython3",
   "version": "3.10.4"
  }
 },
 "nbformat": 4,
 "nbformat_minor": 5
}
